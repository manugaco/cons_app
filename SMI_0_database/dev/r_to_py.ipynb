{
 "cells": [
  {
   "cell_type": "code",
   "execution_count": 1,
   "metadata": {},
   "outputs": [
    {
     "name": "stderr",
     "output_type": "stream",
     "text": [
      "Loading required package: lattice\n",
      "\n",
      "Loading required package: survival\n",
      "\n",
      "Loading required package: Formula\n",
      "\n",
      "Loading required package: ggplot2\n",
      "\n",
      "\n",
      "Attaching package: ‘Hmisc’\n",
      "\n",
      "\n",
      "The following objects are masked from ‘package:base’:\n",
      "\n",
      "    format.pval, units\n",
      "\n",
      "\n"
     ]
    }
   ],
   "source": [
    "library(jsonlite)\n",
    "library(Hmisc)"
   ]
  },
  {
   "cell_type": "code",
   "execution_count": 7,
   "metadata": {},
   "outputs": [],
   "source": [
    "input_path <- \"../../../../context/SMI/Rbackup/\"\n",
    "output_path <- \"../../../../context/SMI/data/\""
   ]
  },
  {
   "cell_type": "code",
   "execution_count": 22,
   "metadata": {},
   "outputs": [],
   "source": [
    "## Import users backup:\n",
    "\n",
    "load(paste(input_path, \"Users/UsersDF_final.RData\", sep = \"\"))\n",
    "json <- toJSON(UsersDF_final, pretty = TRUE, auto_unbox = TRUE)\n",
    "write(json, paste(output_path, \"get_users/db_users.json\", sep = \"\"))"
   ]
  },
  {
   "cell_type": "code",
   "execution_count": 11,
   "metadata": {},
   "outputs": [],
   "source": [
    "## Import train corpus linguistics:\n",
    "\n",
    "load(paste(input_path, \"Corpus/TASScorpus.RData\", sep = \"\"))\n",
    "json <- toJSON(TASScorpus, pretty = TRUE, auto_unbox = TRUE)\n",
    "write(json, paste(output_path, \"train_model/TASScorpus.json\", sep = \"\"))"
   ]
  },
  {
   "cell_type": "code",
   "execution_count": null,
   "metadata": {},
   "outputs": [],
   "source": [
    "## Import municipalities list:\n",
    "\n",
    "load(paste(input_path, \"Municipalities/munlist.Rdata\", sep = \"\"))\n",
    "json <- toJSON(TASScorpus, pretty = TRUE, auto_unbox = TRUE)\n",
    "write(json, paste(output_path, \"municipalities/munlist.json\", sep = \"\"))"
   ]
  },
  {
   "cell_type": "code",
   "execution_count": null,
   "metadata": {},
   "outputs": [],
   "source": [
    "### Test:"
   ]
  },
  {
   "cell_type": "code",
   "execution_count": 33,
   "metadata": {},
   "outputs": [],
   "source": [
    "load(paste(input_path, \"Municipalities/munlist.RData\", sep = \"\"))\n"
   ]
  },
  {
   "cell_type": "code",
   "execution_count": 34,
   "metadata": {},
   "outputs": [
    {
     "data": {
      "text/html": [
       "<style>\n",
       ".list-inline {list-style: none; margin:0; padding: 0}\n",
       ".list-inline>li {display: inline-block}\n",
       ".list-inline>li:not(:last-child)::after {content: \"\\00b7\"; padding: 0 .5ex}\n",
       "</style>\n",
       "<ol class=list-inline><li>'alg_tweets'</li><li>'input_path'</li><li>'json'</li><li>'munlist'</li><li>'munlist2'</li><li>'output_path'</li><li>'path'</li><li>'TASScorpus'</li><li>'TASScorpus_clean'</li><li>'UsersDF_final'</li></ol>\n"
      ],
      "text/latex": [
       "\\begin{enumerate*}\n",
       "\\item 'alg\\_tweets'\n",
       "\\item 'input\\_path'\n",
       "\\item 'json'\n",
       "\\item 'munlist'\n",
       "\\item 'munlist2'\n",
       "\\item 'output\\_path'\n",
       "\\item 'path'\n",
       "\\item 'TASScorpus'\n",
       "\\item 'TASScorpus\\_clean'\n",
       "\\item 'UsersDF\\_final'\n",
       "\\end{enumerate*}\n"
      ],
      "text/markdown": [
       "1. 'alg_tweets'\n",
       "2. 'input_path'\n",
       "3. 'json'\n",
       "4. 'munlist'\n",
       "5. 'munlist2'\n",
       "6. 'output_path'\n",
       "7. 'path'\n",
       "8. 'TASScorpus'\n",
       "9. 'TASScorpus_clean'\n",
       "10. 'UsersDF_final'\n",
       "\n",
       "\n"
      ],
      "text/plain": [
       " [1] \"alg_tweets\"       \"input_path\"       \"json\"             \"munlist\"         \n",
       " [5] \"munlist2\"         \"output_path\"      \"path\"             \"TASScorpus\"      \n",
       " [9] \"TASScorpus_clean\" \"UsersDF_final\"   "
      ]
     },
     "metadata": {},
     "output_type": "display_data"
    }
   ],
   "source": [
    "objects()"
   ]
  },
  {
   "cell_type": "code",
   "execution_count": 35,
   "metadata": {},
   "outputs": [
    {
     "data": {
      "text/plain": [
       "munlist2 \n",
       "\n",
       " 1  Variables      7986  Observations\n",
       "--------------------------------------------------------------------------------\n",
       "munlist2 \n",
       "       n  missing distinct \n",
       "    7986        0     7986 \n",
       "\n",
       "lowest : a arnoia  a baña    a bola    a cañiza  a capela \n",
       "highest: zumaia    zumarraga zuñeda    zúñiga    zurgena  \n",
       "--------------------------------------------------------------------------------"
      ]
     },
     "metadata": {},
     "output_type": "display_data"
    }
   ],
   "source": [
    "describe(munlist2)"
   ]
  },
  {
   "cell_type": "code",
   "execution_count": null,
   "metadata": {},
   "outputs": [],
   "source": []
  }
 ],
 "metadata": {
  "kernelspec": {
   "display_name": "R",
   "language": "R",
   "name": "ir"
  },
  "language_info": {
   "codemirror_mode": "r",
   "file_extension": ".r",
   "mimetype": "text/x-r-source",
   "name": "R",
   "pygments_lexer": "r",
   "version": "4.1.2"
  },
  "orig_nbformat": 4
 },
 "nbformat": 4,
 "nbformat_minor": 2
}
