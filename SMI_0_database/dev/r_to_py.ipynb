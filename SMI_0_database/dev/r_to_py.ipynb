{
 "cells": [
  {
   "cell_type": "code",
   "execution_count": 1,
   "metadata": {},
   "outputs": [
    {
     "name": "stderr",
     "output_type": "stream",
     "text": [
      "Loading required package: lattice\n",
      "\n",
      "Loading required package: survival\n",
      "\n",
      "Loading required package: Formula\n",
      "\n",
      "Loading required package: ggplot2\n",
      "\n",
      "\n",
      "Attaching package: ‘Hmisc’\n",
      "\n",
      "\n",
      "The following objects are masked from ‘package:base’:\n",
      "\n",
      "    format.pval, units\n",
      "\n",
      "\n"
     ]
    }
   ],
   "source": [
    "library(jsonlite)\n",
    "library(Hmisc)"
   ]
  },
  {
   "cell_type": "code",
   "execution_count": 2,
   "metadata": {},
   "outputs": [],
   "source": [
    "input_path <- \"../../../../context/SMI/Rbackup/\"\n",
    "output_path <- \"../../../../context/SMI/data/\""
   ]
  },
  {
   "cell_type": "code",
   "execution_count": 3,
   "metadata": {},
   "outputs": [],
   "source": [
    "## Import users backup:\n",
    "\n",
    "load(paste(input_path, \"Users/UsersDF_final.RData\", sep = \"\"))\n",
    "json <- toJSON(UsersDF_final, pretty = TRUE, auto_unbox = TRUE)\n",
    "write(json, paste(output_path, \"get_users/db_users.json\", sep = \"\"))"
   ]
  },
  {
   "cell_type": "code",
   "execution_count": 4,
   "metadata": {},
   "outputs": [],
   "source": [
    "## Import train corpus linguistics:\n",
    "\n",
    "load(paste(input_path, \"Corpus/TASScorpus.RData\", sep = \"\"))\n",
    "json <- toJSON(TASScorpus, pretty = TRUE, auto_unbox = TRUE)\n",
    "write(json, paste(output_path, \"train_model/TASScorpus.json\", sep = \"\"))"
   ]
  },
  {
   "cell_type": "code",
   "execution_count": 5,
   "metadata": {},
   "outputs": [],
   "source": [
    "## Import municipalities list:\n",
    "\n",
    "load(paste(input_path, \"Municipalities/munlist.Rdata\", sep = \"\"))\n",
    "json <- toJSON(munlist, pretty = TRUE, auto_unbox = TRUE)\n",
    "write(json, paste(output_path, \"municipalities/munlist.json\", sep = \"\"))"
   ]
  },
  {
   "cell_type": "code",
   "execution_count": 6,
   "metadata": {},
   "outputs": [],
   "source": [
    "### Test:"
   ]
  },
  {
   "cell_type": "code",
   "execution_count": 1,
   "metadata": {},
   "outputs": [
    {
     "data": {
      "text/html": [],
      "text/latex": [],
      "text/markdown": [],
      "text/plain": [
       "character(0)"
      ]
     },
     "metadata": {},
     "output_type": "display_data"
    }
   ],
   "source": [
    "objects()"
   ]
  },
  {
   "cell_type": "code",
   "execution_count": 4,
   "metadata": {},
   "outputs": [],
   "source": [
    "series <- c(paste0(\"Series_\", \"21\":\"25\"))\n",
    "years <- c(paste0(\"2012\":\"2017\"))\n",
    "months <- c(paste0(\"1\":\"12\"))"
   ]
  },
  {
   "cell_type": "code",
   "execution_count": 6,
   "metadata": {},
   "outputs": [
    {
     "name": "stdout",
     "output_type": "stream",
     "text": [
      "[1] \"Series_21\"\n",
      "[1] \"21\"\n",
      "[1] \"../../../../context/SMI/data/get_tweets/2012/DF_2012_1_21.json\"\n",
      "[1] \"21\"\n",
      "[1] \"../../../../context/SMI/data/get_tweets/2013/DF_2013_1_21.json\"\n",
      "[1] \"21\"\n",
      "[1] \"../../../../context/SMI/data/get_tweets/2014/DF_2014_1_21.json\"\n",
      "[1] \"21\"\n",
      "[1] \"../../../../context/SMI/data/get_tweets/2015/DF_2015_1_21.json\"\n",
      "[1] \"21\"\n",
      "[1] \"../../../../context/SMI/data/get_tweets/2016/DF_2016_1_21.json\"\n",
      "[1] \"21\"\n",
      "[1] \"../../../../context/SMI/data/get_tweets/2017/DF_2017_1_21.json\"\n",
      "[1] \"Series_22\"\n",
      "[1] \"22\"\n",
      "[1] \"../../../../context/SMI/data/get_tweets/2012/DF_2012_1_22.json\"\n",
      "[1] \"22\"\n",
      "[1] \"../../../../context/SMI/data/get_tweets/2013/DF_2013_1_22.json\"\n",
      "[1] \"22\"\n",
      "[1] \"../../../../context/SMI/data/get_tweets/2014/DF_2014_1_22.json\"\n",
      "[1] \"22\"\n",
      "[1] \"../../../../context/SMI/data/get_tweets/2015/DF_2015_1_22.json\"\n",
      "[1] \"22\"\n",
      "[1] \"../../../../context/SMI/data/get_tweets/2016/DF_2016_1_22.json\"\n",
      "[1] \"22\"\n",
      "[1] \"../../../../context/SMI/data/get_tweets/2017/DF_2017_1_22.json\"\n",
      "[1] \"Series_23\"\n",
      "[1] \"23\"\n",
      "[1] \"../../../../context/SMI/data/get_tweets/2012/DF_2012_1_23.json\"\n",
      "[1] \"23\"\n",
      "[1] \"../../../../context/SMI/data/get_tweets/2013/DF_2013_1_23.json\"\n",
      "[1] \"23\"\n",
      "[1] \"../../../../context/SMI/data/get_tweets/2014/DF_2014_1_23.json\"\n",
      "[1] \"23\"\n",
      "[1] \"../../../../context/SMI/data/get_tweets/2015/DF_2015_1_23.json\"\n",
      "[1] \"23\"\n",
      "[1] \"../../../../context/SMI/data/get_tweets/2016/DF_2016_1_23.json\"\n",
      "[1] \"23\"\n",
      "[1] \"../../../../context/SMI/data/get_tweets/2017/DF_2017_1_23.json\"\n",
      "[1] \"Series_24\"\n",
      "[1] \"24\"\n",
      "[1] \"../../../../context/SMI/data/get_tweets/2012/DF_2012_1_24.json\"\n",
      "[1] \"24\"\n",
      "[1] \"../../../../context/SMI/data/get_tweets/2013/DF_2013_1_24.json\"\n",
      "[1] \"24\"\n",
      "[1] \"../../../../context/SMI/data/get_tweets/2014/DF_2014_1_24.json\"\n",
      "[1] \"24\"\n",
      "[1] \"../../../../context/SMI/data/get_tweets/2015/DF_2015_1_24.json\"\n",
      "[1] \"24\"\n",
      "[1] \"../../../../context/SMI/data/get_tweets/2016/DF_2016_1_24.json\"\n",
      "[1] \"24\"\n",
      "[1] \"../../../../context/SMI/data/get_tweets/2017/DF_2017_1_24.json\"\n",
      "[1] \"Series_25\"\n",
      "[1] \"25\"\n",
      "[1] \"../../../../context/SMI/data/get_tweets/2012/DF_2012_1_25.json\"\n",
      "[1] \"25\"\n",
      "[1] \"../../../../context/SMI/data/get_tweets/2013/DF_2013_1_25.json\"\n",
      "[1] \"25\"\n",
      "[1] \"../../../../context/SMI/data/get_tweets/2014/DF_2014_1_25.json\"\n",
      "[1] \"25\"\n",
      "[1] \"../../../../context/SMI/data/get_tweets/2015/DF_2015_1_25.json\"\n",
      "[1] \"25\"\n",
      "[1] \"../../../../context/SMI/data/get_tweets/2016/DF_2016_1_25.json\"\n",
      "[1] \"25\"\n",
      "[1] \"../../../../context/SMI/data/get_tweets/2017/DF_2017_1_25.json\"\n"
     ]
    }
   ],
   "source": [
    "# loop to load all the tweets\n",
    "for (serie in series) {\n",
    "    print(serie)\n",
    "    flush.console()\n",
    "    for (year in years) {\n",
    "        for (month in months) {\n",
    "            day <- unlist(strsplit(serie, split = \"_\"))[2]\n",
    "            if (month == \"1\") {\n",
    "                print(day)\n",
    "                flush.console()\n",
    "            }\n",
    "            name <- paste(\"DF_\",\n",
    "                        year,\n",
    "                        \"_\",\n",
    "                        month,\n",
    "                        \"_\",\n",
    "                        day,\n",
    "                        sep = \"\")\n",
    "            path <- paste(input_path,\n",
    "                        \"Tweets/\",\n",
    "                        serie,\n",
    "                        \"/Dirty/\",\n",
    "                        name,\n",
    "                        \".RData\",\n",
    "                        sep = \"\"\n",
    "                        )\n",
    "            load(path)\n",
    "            json <- toJSON(get(name), pretty = TRUE, auto_unbox = TRUE)\n",
    "            json_path <- paste(output_path,\n",
    "            paste(\"get_tweets/\",\n",
    "            year,\n",
    "            \"/\",\n",
    "            name,\n",
    "            \".json\",\n",
    "            sep = \"\"),\n",
    "            sep = \"\")\n",
    "            if (month == \"1\") {\n",
    "                print(json_path)\n",
    "                flush.console()\n",
    "            }\n",
    "            write(json, json_path)\n",
    "            rm(list = name)\n",
    "        }\n",
    "    }\n",
    "}"
   ]
  }
 ],
 "metadata": {
  "kernelspec": {
   "display_name": "R",
   "language": "R",
   "name": "ir"
  },
  "language_info": {
   "codemirror_mode": "r",
   "file_extension": ".r",
   "mimetype": "text/x-r-source",
   "name": "R",
   "pygments_lexer": "r",
   "version": "4.1.2"
  },
  "orig_nbformat": 4
 },
 "nbformat": 4,
 "nbformat_minor": 2
}
