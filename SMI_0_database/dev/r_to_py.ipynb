{
 "cells": [
  {
   "cell_type": "code",
   "execution_count": 1,
   "metadata": {},
   "outputs": [
    {
     "name": "stderr",
     "output_type": "stream",
     "text": [
      "Loading required package: lattice\n",
      "\n",
      "Loading required package: survival\n",
      "\n",
      "Loading required package: Formula\n",
      "\n",
      "Loading required package: ggplot2\n",
      "\n",
      "\n",
      "Attaching package: ‘Hmisc’\n",
      "\n",
      "\n",
      "The following objects are masked from ‘package:base’:\n",
      "\n",
      "    format.pval, units\n",
      "\n",
      "\n"
     ]
    }
   ],
   "source": [
    "library(jsonlite)\n",
    "library(Hmisc)"
   ]
  },
  {
   "cell_type": "code",
   "execution_count": 2,
   "metadata": {},
   "outputs": [],
   "source": [
    "input_path <- \"../../../../context/SMI/Rbackup/\"\n",
    "output_path <- \"../../../../context/SMI/data/\""
   ]
  },
  {
   "cell_type": "code",
   "execution_count": 22,
   "metadata": {},
   "outputs": [],
   "source": [
    "## Import users backup:\n",
    "\n",
    "load(paste(input_path, \"Users/UsersDF_final.RData\", sep = \"\"))\n",
    "json <- toJSON(UsersDF_final, pretty = TRUE, auto_unbox = TRUE)\n",
    "write(json, paste(output_path, \"get_users/db_users.json\", sep = \"\"))"
   ]
  },
  {
   "cell_type": "code",
   "execution_count": 11,
   "metadata": {},
   "outputs": [],
   "source": [
    "## Import train corpus linguistics:\n",
    "\n",
    "load(paste(input_path, \"Corpus/TASScorpus.RData\", sep = \"\"))\n",
    "json <- toJSON(TASScorpus, pretty = TRUE, auto_unbox = TRUE)\n",
    "write(json, paste(output_path, \"train_model/TASScorpus.json\", sep = \"\"))"
   ]
  },
  {
   "cell_type": "code",
   "execution_count": 3,
   "metadata": {},
   "outputs": [],
   "source": [
    "load(paste(input_path, \"Municipalities/munlist.Rdata\", sep = \"\"))"
   ]
  },
  {
   "cell_type": "code",
   "execution_count": 5,
   "metadata": {},
   "outputs": [],
   "source": [
    "## Import municipalities list:\n",
    "\n",
    "load(paste(input_path, \"Municipalities/munlist.Rdata\", sep = \"\"))\n",
    "json <- toJSON(munlist, pretty = TRUE, auto_unbox = TRUE)\n",
    "write(json, paste(output_path, \"municipalities/munlist.json\", sep = \"\"))"
   ]
  },
  {
   "cell_type": "code",
   "execution_count": null,
   "metadata": {},
   "outputs": [],
   "source": [
    "### Test:"
   ]
  },
  {
   "cell_type": "code",
   "execution_count": 11,
   "metadata": {},
   "outputs": [],
   "source": [
    "load(paste(input_path, \"Tweets/Series_21/Dirty/DF_2012_1_21.RData\", sep = \"\"))\n"
   ]
  },
  {
   "cell_type": "code",
   "execution_count": 4,
   "metadata": {},
   "outputs": [
    {
     "data": {
      "text/html": [
       "<style>\n",
       ".list-inline {list-style: none; margin:0; padding: 0}\n",
       ".list-inline>li {display: inline-block}\n",
       ".list-inline>li:not(:last-child)::after {content: \"\\00b7\"; padding: 0 .5ex}\n",
       "</style>\n",
       "<ol class=list-inline><li>'input_path'</li><li>'munlist'</li><li>'output_path'</li></ol>\n"
      ],
      "text/latex": [
       "\\begin{enumerate*}\n",
       "\\item 'input\\_path'\n",
       "\\item 'munlist'\n",
       "\\item 'output\\_path'\n",
       "\\end{enumerate*}\n"
      ],
      "text/markdown": [
       "1. 'input_path'\n",
       "2. 'munlist'\n",
       "3. 'output_path'\n",
       "\n",
       "\n"
      ],
      "text/plain": [
       "[1] \"input_path\"  \"munlist\"     \"output_path\""
      ]
     },
     "metadata": {},
     "output_type": "display_data"
    }
   ],
   "source": [
    "objects()"
   ]
  },
  {
   "cell_type": "code",
   "execution_count": 13,
   "metadata": {},
   "outputs": [
    {
     "data": {
      "text/html": [
       "<table class=\"dataframe\">\n",
       "<caption>A tibble: 6 × 5</caption>\n",
       "<thead>\n",
       "\t<tr><th scope=col>username</th><th scope=col>date</th><th scope=col>retweets</th><th scope=col>favorites</th><th scope=col>text</th></tr>\n",
       "\t<tr><th scope=col>&lt;chr&gt;</th><th scope=col>&lt;dttm&gt;</th><th scope=col>&lt;int&gt;</th><th scope=col>&lt;int&gt;</th><th scope=col>&lt;chr&gt;</th></tr>\n",
       "</thead>\n",
       "<tbody>\n",
       "\t<tr><td>RitaMRG </td><td>2012-01-21 20:55:00</td><td>0</td><td>0</td><td>Mi nivel de empanamiento y sueño va en aumento... #estonopuedeser                                                                           </td></tr>\n",
       "\t<tr><td>RitaMRG </td><td>2012-01-21 20:33:00</td><td>0</td><td>0</td><td>@ElisabetMarMes jajaja Bueno entonces, te entiendo, igualmente cuando termineis todas, y salgais de vuestro escondite, ya nos vamos :) jajaj</td></tr>\n",
       "\t<tr><td>RitaMRG </td><td>2012-01-21 20:25:00</td><td>0</td><td>0</td><td>@ElisabetMarMes reinaaaaa, si no vamos a estar mucho tiempo, es por ir un ratico, te lo tenia que preguntar por si era un si..¬¬            </td></tr>\n",
       "\t<tr><td>RitaMRG </td><td>2012-01-21 11:38:00</td><td>0</td><td>0</td><td>Ya despierta y en breves a ensayar.. vengaaaa buenos dias :)                                                                                </td></tr>\n",
       "\t<tr><td>jairo093</td><td>2012-01-21 18:39:00</td><td>0</td><td>0</td><td>@GuilleDiRi Deja de tuitear ponte a estudiar el toston ese de asignatura que tienes.. posdata : te van a follar el lunes =)                 </td></tr>\n",
       "\t<tr><td>jairo093</td><td>2012-01-21 13:03:00</td><td>0</td><td>0</td><td>Buenos dias... hacia tiempo que no me levantaba tan tarde =S                                                                                </td></tr>\n",
       "</tbody>\n",
       "</table>\n"
      ],
      "text/latex": [
       "A tibble: 6 × 5\n",
       "\\begin{tabular}{lllll}\n",
       " username & date & retweets & favorites & text\\\\\n",
       " <chr> & <dttm> & <int> & <int> & <chr>\\\\\n",
       "\\hline\n",
       "\t RitaMRG  & 2012-01-21 20:55:00 & 0 & 0 & Mi nivel de empanamiento y sueño va en aumento... \\#estonopuedeser                                                                           \\\\\n",
       "\t RitaMRG  & 2012-01-21 20:33:00 & 0 & 0 & @ElisabetMarMes jajaja Bueno entonces, te entiendo, igualmente cuando termineis todas, y salgais de vuestro escondite, ya nos vamos :) jajaj\\\\\n",
       "\t RitaMRG  & 2012-01-21 20:25:00 & 0 & 0 & @ElisabetMarMes reinaaaaa, si no vamos a estar mucho tiempo, es por ir un ratico, te lo tenia que preguntar por si era un si..¬¬            \\\\\n",
       "\t RitaMRG  & 2012-01-21 11:38:00 & 0 & 0 & Ya despierta y en breves a ensayar.. vengaaaa buenos dias :)                                                                                \\\\\n",
       "\t jairo093 & 2012-01-21 18:39:00 & 0 & 0 & @GuilleDiRi Deja de tuitear ponte a estudiar el toston ese de asignatura que tienes.. posdata : te van a follar el lunes =)                 \\\\\n",
       "\t jairo093 & 2012-01-21 13:03:00 & 0 & 0 & Buenos dias... hacia tiempo que no me levantaba tan tarde =S                                                                                \\\\\n",
       "\\end{tabular}\n"
      ],
      "text/markdown": [
       "\n",
       "A tibble: 6 × 5\n",
       "\n",
       "| username &lt;chr&gt; | date &lt;dttm&gt; | retweets &lt;int&gt; | favorites &lt;int&gt; | text &lt;chr&gt; |\n",
       "|---|---|---|---|---|\n",
       "| RitaMRG  | 2012-01-21 20:55:00 | 0 | 0 | Mi nivel de empanamiento y sueño va en aumento... #estonopuedeser                                                                            |\n",
       "| RitaMRG  | 2012-01-21 20:33:00 | 0 | 0 | @ElisabetMarMes jajaja Bueno entonces, te entiendo, igualmente cuando termineis todas, y salgais de vuestro escondite, ya nos vamos :) jajaj |\n",
       "| RitaMRG  | 2012-01-21 20:25:00 | 0 | 0 | @ElisabetMarMes reinaaaaa, si no vamos a estar mucho tiempo, es por ir un ratico, te lo tenia que preguntar por si era un si..¬¬             |\n",
       "| RitaMRG  | 2012-01-21 11:38:00 | 0 | 0 | Ya despierta y en breves a ensayar.. vengaaaa buenos dias :)                                                                                 |\n",
       "| jairo093 | 2012-01-21 18:39:00 | 0 | 0 | @GuilleDiRi Deja de tuitear ponte a estudiar el toston ese de asignatura que tienes.. posdata : te van a follar el lunes =)                  |\n",
       "| jairo093 | 2012-01-21 13:03:00 | 0 | 0 | Buenos dias... hacia tiempo que no me levantaba tan tarde =S                                                                                 |\n",
       "\n"
      ],
      "text/plain": [
       "  username date                retweets favorites\n",
       "1 RitaMRG  2012-01-21 20:55:00 0        0        \n",
       "2 RitaMRG  2012-01-21 20:33:00 0        0        \n",
       "3 RitaMRG  2012-01-21 20:25:00 0        0        \n",
       "4 RitaMRG  2012-01-21 11:38:00 0        0        \n",
       "5 jairo093 2012-01-21 18:39:00 0        0        \n",
       "6 jairo093 2012-01-21 13:03:00 0        0        \n",
       "  text                                                                                                                                        \n",
       "1 Mi nivel de empanamiento y sueño va en aumento... #estonopuedeser                                                                           \n",
       "2 @ElisabetMarMes jajaja Bueno entonces, te entiendo, igualmente cuando termineis todas, y salgais de vuestro escondite, ya nos vamos :) jajaj\n",
       "3 @ElisabetMarMes reinaaaaa, si no vamos a estar mucho tiempo, es por ir un ratico, te lo tenia que preguntar por si era un si..¬¬            \n",
       "4 Ya despierta y en breves a ensayar.. vengaaaa buenos dias :)                                                                                \n",
       "5 @GuilleDiRi Deja de tuitear ponte a estudiar el toston ese de asignatura que tienes.. posdata : te van a follar el lunes =)                 \n",
       "6 Buenos dias... hacia tiempo que no me levantaba tan tarde =S                                                                                "
      ]
     },
     "metadata": {},
     "output_type": "display_data"
    }
   ],
   "source": [
    "head(DF_2012_1_21)"
   ]
  }
 ],
 "metadata": {
  "kernelspec": {
   "display_name": "R",
   "language": "R",
   "name": "ir"
  },
  "language_info": {
   "codemirror_mode": "r",
   "file_extension": ".r",
   "mimetype": "text/x-r-source",
   "name": "R",
   "pygments_lexer": "r",
   "version": "4.1.2"
  },
  "orig_nbformat": 4
 },
 "nbformat": 4,
 "nbformat_minor": 2
}
