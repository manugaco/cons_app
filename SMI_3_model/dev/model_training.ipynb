{
 "cells": [
  {
   "cell_type": "code",
   "execution_count": 1,
   "metadata": {},
   "outputs": [
    {
     "name": "stderr",
     "output_type": "stream",
     "text": [
      "2022-02-25 13:01:23.207243: W tensorflow/stream_executor/platform/default/dso_loader.cc:64] Could not load dynamic library 'libcudart.so.11.0'; dlerror: libcudart.so.11.0: cannot open shared object file: No such file or directory\n",
      "2022-02-25 13:01:23.207297: I tensorflow/stream_executor/cuda/cudart_stub.cc:29] Ignore above cudart dlerror if you do not have a GPU set up on your machine.\n"
     ]
    }
   ],
   "source": [
    "import numpy as np\n",
    "import pandas as pd\n",
    "import warnings\n",
    "import matplotlib.pyplot as plt\n",
    "import seaborn as sns\n",
    "import re\n",
    "import xml.etree.ElementTree as et\n",
    "\n",
    "import spacy\n",
    "nlp = spacy.load('es_core_news_sm')\n",
    "from sklearn.feature_extraction.text import TfidfVectorizer\n",
    "from scipy.stats import norm\n",
    "\n",
    "from sklearn.model_selection import train_test_split\n",
    "from sklearn.model_selection import GridSearchCV\n",
    "from sklearn.linear_model import LogisticRegression\n",
    "from sklearn.metrics import accuracy_score, recall_score, precision_score, f1_score, confusion_matrix\n",
    "\n",
    "warnings.filterwarnings('ignore')"
   ]
  },
  {
   "cell_type": "code",
   "execution_count": 2,
   "metadata": {},
   "outputs": [],
   "source": [
    "def xml_to_pandas(xroot):\n",
    "    \n",
    "    tweets = []\n",
    "    for i in range(len(xroot)):\n",
    "        tweet = []\n",
    "        for j in range(len(xroot[i])):\n",
    "            if j==5:\n",
    "                sentiment = []\n",
    "                for k in range(len(xroot[i][j])):\n",
    "                    type = []\n",
    "                    for l in range(len(xroot[i][j][k])):\n",
    "                        type.append(xroot[i][j][k][l].text)\n",
    "                    sentiment.append(type)\n",
    "                tweet.append(sentiment)\n",
    "            elif j==6:\n",
    "                topic = []\n",
    "                for k in range(len(xroot[i][j])):\n",
    "                    topic.append(xroot[i][j][k].text)\n",
    "                tweet.append(topic)\n",
    "            else:\n",
    "                tweet.append(xroot[i][j].text)\n",
    "        tweets.append(tweet)\n",
    "    output = pd.DataFrame(tweets)\n",
    "    output.columns = ['tweetid', 'user', 'text', 'time_stamp', 'language', 'sentiment', 'topic']\n",
    "    return(output)\n",
    "\n",
    "def get_frame_xml(files, target, features):\n",
    "    \n",
    "    df_a = pd.DataFrame()\n",
    "    for file in files:\n",
    "        xtree = et.parse(path + file)\n",
    "        xroot = xtree.getroot()\n",
    "        df_a = pd.concat([df_a, xml_to_pandas(xroot)], axis=0)\n",
    "    df_a.reset_index(drop=True, inplace=True)\n",
    "    df_a['sent'] = df_a['sentiment'].apply(lambda x: x[0][0])\n",
    "    df_a[target] = np.where(((df_a['sent'] == 'P') | (df_a['sent'] == 'P+')), 1,\n",
    "                np.where(((df_a['sent'] == 'N') | (df_a['sent'] == 'N+')), 0, np.nan))\n",
    "    df_a = df_a[~df_a[target].isna()]\n",
    "    return(df_a[[target, features]])\n",
    "\n",
    "def normalize(s):\n",
    "    replacements = (\n",
    "        (\"á\", \"a\"),\n",
    "        (\"é\", \"e\"),\n",
    "        (\"í\", \"i\"),\n",
    "        (\"ó\", \"o\"),\n",
    "        (\"ú\", \"u\"),\n",
    "    )\n",
    "    for a, b in replacements:\n",
    "        s = s.replace(a, b).replace(a.upper(), b.upper())\n",
    "    return(s)\n",
    "\n",
    "def get_stops(stops, path):\n",
    "    \n",
    "    with open(path + stops[0]) as f:\n",
    "        stopw_1 = f.read().splitlines()\n",
    "    with open(path + stops[1]) as f:\n",
    "        stopw_2 = f.read().splitlines()\n",
    "\n",
    "    stopw_1[0] = stopw_1[0].replace('\\ufeff', '')\n",
    "    stopw = stopw_1 + stopw_2\n",
    "    stopw = [normalize(word) for word in stopw]\n",
    "    return(stopw)\n",
    "\n",
    "def remove_stops(data, column, stops):\n",
    "    for i in range(data.shape[0]):\n",
    "        token_sent = data[column].iloc[i].split()\n",
    "        filtered_sent = []\n",
    "        for w in token_sent:\n",
    "            if w not in stops:\n",
    "                filtered_sent.append(w)\n",
    "        data[column].iloc[i] = ' '.join(filtered_sent)\n",
    "        doc = nlp(data[column].iloc[i])\n",
    "        lemmas = [tok.lemma_.lower() for tok in doc]\n",
    "        data[column].iloc[i] = ' '.join(lemmas)\n",
    "    return(data)\n",
    "\n",
    "def text_treatment(data, column, stops):\n",
    "    \n",
    "    #Text normalization:\n",
    "    data[column] = data[column].apply(lambda r: ' '.join(n for n in re.findall('(?<!\\S)[a-zA-Z]+(?!\\S)', str(r))))\n",
    "    data[column] = data[column].apply(lambda r: r.lstrip())\n",
    "    data[column] = data[column].apply(lambda r: r.lower())\n",
    "    data[column] = data[column].apply(lambda r: normalize(r))\n",
    "    #Stopwords removal and lemmatization:\n",
    "\n",
    "    data = remove_stops(data, column, stops)\n",
    "    return(data)\n",
    "\n",
    "def create_mod_table(data, target, features, imp):\n",
    "    \n",
    "    #Term frequency-Inverse term frequency\n",
    "    y = data[target]\n",
    "    X = data[features]\n",
    "    tf=TfidfVectorizer()\n",
    "    text_tf= tf.fit_transform(X)\n",
    "\n",
    "    #Logistic regression for feature importance\n",
    "    model = LogisticRegression()\n",
    "    model.fit(text_tf, y)\n",
    "    importance = model.coef_[0]\n",
    "\n",
    "    #Feature selection\n",
    "    keys = list(range(text_tf.shape[1]))\n",
    "    values = importance\n",
    "    imp_df = pd.DataFrame(values, keys).rename(columns={0:'values'})\n",
    "    sel_cols = imp_df[imp_df['values'] > imp].index\n",
    "\n",
    "    return(text_tf[:, sel_cols])"
   ]
  },
  {
   "cell_type": "code",
   "execution_count": 3,
   "metadata": {},
   "outputs": [],
   "source": [
    "path = '../../../../context/SMI/data/train_model'\n",
    "files = ['/db_train_gen.xml', '/db_train_pol.xml']\n",
    "stops = ['/db_stopwords_spanish_1.txt', '/db_stopwords_spanish_2.txt']\n",
    "seed = 111\n",
    "test_size = 0.2\n",
    "cv = 10\n",
    "target = 'target'\n",
    "features ='text'\n",
    "grid = {\"C\": np.logspace(-4,4,8), \n",
    "        \"penalty\": [\"l1\", \"l2\", \"elasticnet\"]}"
   ]
  },
  {
   "cell_type": "code",
   "execution_count": 4,
   "metadata": {},
   "outputs": [
    {
     "ename": "FileNotFoundError",
     "evalue": "[Errno 2] No such file or directory: '../../../../context/SMI/data/train_model/db_stopwords_spanish_1.txt'",
     "output_type": "error",
     "traceback": [
      "\u001b[0;31m---------------------------------------------------------------------------\u001b[0m",
      "\u001b[0;31mFileNotFoundError\u001b[0m                         Traceback (most recent call last)",
      "\u001b[0;32m/tmp/ipykernel_23760/798428064.py\u001b[0m in \u001b[0;36m<module>\u001b[0;34m\u001b[0m\n\u001b[1;32m      3\u001b[0m \u001b[0;34m\u001b[0m\u001b[0m\n\u001b[1;32m      4\u001b[0m \u001b[0;31m#Stopwords:\u001b[0m\u001b[0;34m\u001b[0m\u001b[0;34m\u001b[0m\u001b[0;34m\u001b[0m\u001b[0m\n\u001b[0;32m----> 5\u001b[0;31m \u001b[0mstopw\u001b[0m \u001b[0;34m=\u001b[0m \u001b[0mget_stops\u001b[0m\u001b[0;34m(\u001b[0m\u001b[0mstops\u001b[0m\u001b[0;34m,\u001b[0m \u001b[0mpath\u001b[0m\u001b[0;34m)\u001b[0m\u001b[0;34m\u001b[0m\u001b[0;34m\u001b[0m\u001b[0m\n\u001b[0m\u001b[1;32m      6\u001b[0m \u001b[0;34m\u001b[0m\u001b[0m\n\u001b[1;32m      7\u001b[0m \u001b[0;31m#Text treatment:\u001b[0m\u001b[0;34m\u001b[0m\u001b[0;34m\u001b[0m\u001b[0;34m\u001b[0m\u001b[0m\n",
      "\u001b[0;32m/tmp/ipykernel_23760/1441007874.py\u001b[0m in \u001b[0;36mget_stops\u001b[0;34m(stops, path)\u001b[0m\n\u001b[1;32m     53\u001b[0m \u001b[0;32mdef\u001b[0m \u001b[0mget_stops\u001b[0m\u001b[0;34m(\u001b[0m\u001b[0mstops\u001b[0m\u001b[0;34m,\u001b[0m \u001b[0mpath\u001b[0m\u001b[0;34m)\u001b[0m\u001b[0;34m:\u001b[0m\u001b[0;34m\u001b[0m\u001b[0;34m\u001b[0m\u001b[0m\n\u001b[1;32m     54\u001b[0m \u001b[0;34m\u001b[0m\u001b[0m\n\u001b[0;32m---> 55\u001b[0;31m     \u001b[0;32mwith\u001b[0m \u001b[0mopen\u001b[0m\u001b[0;34m(\u001b[0m\u001b[0mpath\u001b[0m \u001b[0;34m+\u001b[0m \u001b[0mstops\u001b[0m\u001b[0;34m[\u001b[0m\u001b[0;36m0\u001b[0m\u001b[0;34m]\u001b[0m\u001b[0;34m)\u001b[0m \u001b[0;32mas\u001b[0m \u001b[0mf\u001b[0m\u001b[0;34m:\u001b[0m\u001b[0;34m\u001b[0m\u001b[0;34m\u001b[0m\u001b[0m\n\u001b[0m\u001b[1;32m     56\u001b[0m         \u001b[0mstopw_1\u001b[0m \u001b[0;34m=\u001b[0m \u001b[0mf\u001b[0m\u001b[0;34m.\u001b[0m\u001b[0mread\u001b[0m\u001b[0;34m(\u001b[0m\u001b[0;34m)\u001b[0m\u001b[0;34m.\u001b[0m\u001b[0msplitlines\u001b[0m\u001b[0;34m(\u001b[0m\u001b[0;34m)\u001b[0m\u001b[0;34m\u001b[0m\u001b[0;34m\u001b[0m\u001b[0m\n\u001b[1;32m     57\u001b[0m     \u001b[0;32mwith\u001b[0m \u001b[0mopen\u001b[0m\u001b[0;34m(\u001b[0m\u001b[0mpath\u001b[0m \u001b[0;34m+\u001b[0m \u001b[0mstops\u001b[0m\u001b[0;34m[\u001b[0m\u001b[0;36m1\u001b[0m\u001b[0;34m]\u001b[0m\u001b[0;34m)\u001b[0m \u001b[0;32mas\u001b[0m \u001b[0mf\u001b[0m\u001b[0;34m:\u001b[0m\u001b[0;34m\u001b[0m\u001b[0;34m\u001b[0m\u001b[0m\n",
      "\u001b[0;31mFileNotFoundError\u001b[0m: [Errno 2] No such file or directory: '../../../../context/SMI/data/train_model/db_stopwords_spanish_1.txt'"
     ]
    }
   ],
   "source": [
    "#Xml to dataframe\n",
    "df = get_frame_xml(files, target, features)\n",
    "\n",
    "#Stopwords:\n",
    "stopw = get_stops(stops, path)\n",
    "\n",
    "#Text treatment:\n",
    "df = text_treatment(df, features, stopw)\n",
    "\n",
    "#Defining modelling table:\n",
    "y = df[target]\n",
    "X = create_mod_table(df, target, features, 0.4)\n",
    "X_train, X_test, y_train, y_test = train_test_split(X, y, test_size=test_size, random_state=seed)"
   ]
  },
  {
   "cell_type": "code",
   "execution_count": null,
   "metadata": {},
   "outputs": [
    {
     "data": {
      "text/html": [
       "<div>\n",
       "<style scoped>\n",
       "    .dataframe tbody tr th:only-of-type {\n",
       "        vertical-align: middle;\n",
       "    }\n",
       "\n",
       "    .dataframe tbody tr th {\n",
       "        vertical-align: top;\n",
       "    }\n",
       "\n",
       "    .dataframe thead th {\n",
       "        text-align: right;\n",
       "    }\n",
       "</style>\n",
       "<table border=\"1\" class=\"dataframe\">\n",
       "  <thead>\n",
       "    <tr style=\"text-align: right;\">\n",
       "      <th></th>\n",
       "      <th>target</th>\n",
       "      <th>text</th>\n",
       "    </tr>\n",
       "  </thead>\n",
       "  <tbody>\n",
       "    <tr>\n",
       "      <th>2</th>\n",
       "      <td>1.0</td>\n",
       "      <td>gracias mar</td>\n",
       "    </tr>\n",
       "    <tr>\n",
       "      <th>3</th>\n",
       "      <td>0.0</td>\n",
       "      <td>off pensar regalito sgae sacar conclusión</td>\n",
       "    </tr>\n",
       "    <tr>\n",
       "      <th>4</th>\n",
       "      <td>1.0</td>\n",
       "      <td>conocer alguien q adicto ja jo ja tú sonar d</td>\n",
       "    </tr>\n",
       "    <tr>\n",
       "      <th>6</th>\n",
       "      <td>1.0</td>\n",
       "      <td>tocar dl especial</td>\n",
       "    </tr>\n",
       "    <tr>\n",
       "      <th>8</th>\n",
       "      <td>1.0</td>\n",
       "      <td>mandar abrazo grande miguel familia grandezo</td>\n",
       "    </tr>\n",
       "    <tr>\n",
       "      <th>...</th>\n",
       "      <td>...</td>\n",
       "      <td>...</td>\n",
       "    </tr>\n",
       "    <tr>\n",
       "      <th>9708</th>\n",
       "      <td>1.0</td>\n",
       "      <td>favorecer</td>\n",
       "    </tr>\n",
       "    <tr>\n",
       "      <th>9711</th>\n",
       "      <td>0.0</td>\n",
       "      <td>definitivamente siento voto</td>\n",
       "    </tr>\n",
       "    <tr>\n",
       "      <th>9714</th>\n",
       "      <td>0.0</td>\n",
       "      <td>salvar banco salvar pyme</td>\n",
       "    </tr>\n",
       "    <tr>\n",
       "      <th>9716</th>\n",
       "      <td>1.0</td>\n",
       "      <td>vuestro propuesta ojala podais llevar él pract...</td>\n",
       "    </tr>\n",
       "    <tr>\n",
       "      <th>9718</th>\n",
       "      <td>0.0</td>\n",
       "      <td>momento pedirl</td>\n",
       "    </tr>\n",
       "  </tbody>\n",
       "</table>\n",
       "<p>6360 rows × 2 columns</p>\n",
       "</div>"
      ],
      "text/plain": [
       "      target                                               text\n",
       "2        1.0                                        gracias mar\n",
       "3        0.0          off pensar regalito sgae sacar conclusión\n",
       "4        1.0       conocer alguien q adicto ja jo ja tú sonar d\n",
       "6        1.0                                  tocar dl especial\n",
       "8        1.0       mandar abrazo grande miguel familia grandezo\n",
       "...      ...                                                ...\n",
       "9708     1.0                                          favorecer\n",
       "9711     0.0                        definitivamente siento voto\n",
       "9714     0.0                           salvar banco salvar pyme\n",
       "9716     1.0  vuestro propuesta ojala podais llevar él pract...\n",
       "9718     0.0                                     momento pedirl\n",
       "\n",
       "[6360 rows x 2 columns]"
      ]
     },
     "execution_count": 13,
     "metadata": {},
     "output_type": "execute_result"
    }
   ],
   "source": [
    "df"
   ]
  },
  {
   "cell_type": "code",
   "execution_count": null,
   "metadata": {},
   "outputs": [
    {
     "name": "stdout",
     "output_type": "stream",
     "text": [
      "tuned hyper-parameters :  {'C': 719.6856730011514, 'penalty': 'l2'}\n"
     ]
    }
   ],
   "source": [
    "logreg = LogisticRegression()\n",
    "logreg_cv = GridSearchCV(logreg, grid, cv=cv)\n",
    "logreg_cv.fit(X_train, y_train)\n",
    "\n",
    "print(\"tuned hyper-parameters : \", logreg_cv.best_params_)"
   ]
  },
  {
   "cell_type": "code",
   "execution_count": null,
   "metadata": {},
   "outputs": [
    {
     "name": "stdout",
     "output_type": "stream",
     "text": [
      "Accuracy score on train set: 74.69\n",
      "Recall score on train set: 82.33\n",
      "Precision score on train set: 69.0\n",
      "F1 score on train set: 75.1\n"
     ]
    }
   ],
   "source": [
    "clf = LogisticRegression(C = logreg_cv.best_params_.get('C'), \n",
    "                         penalty = logreg_cv.best_params_.get('penalty'))\n",
    "clf.fit(X_train, y_train)\n",
    "y_hat_train = clf.predict(X_train)"
   ]
  },
  {
   "cell_type": "code",
   "execution_count": null,
   "metadata": {},
   "outputs": [],
   "source": [
    "print('Accuracy score on train set:', round(accuracy_score(y_hat_train, y_train),4)*100)\n",
    "print('Recall score on train set:',round(recall_score(y_hat_train, y_train),4)*100)\n",
    "print('Precision score on train set:',round(precision_score(y_hat_train, y_train),3)*100)\n",
    "print('F1 score on train set:',round(f1_score(y_hat_train, y_train),3)*100)"
   ]
  },
  {
   "cell_type": "code",
   "execution_count": null,
   "metadata": {},
   "outputs": [
    {
     "data": {
      "text/html": [
       "<div>\n",
       "<style scoped>\n",
       "    .dataframe tbody tr th:only-of-type {\n",
       "        vertical-align: middle;\n",
       "    }\n",
       "\n",
       "    .dataframe tbody tr th {\n",
       "        vertical-align: top;\n",
       "    }\n",
       "\n",
       "    .dataframe thead th {\n",
       "        text-align: right;\n",
       "    }\n",
       "</style>\n",
       "<table border=\"1\" class=\"dataframe\">\n",
       "  <thead>\n",
       "    <tr style=\"text-align: right;\">\n",
       "      <th>target</th>\n",
       "      <th>0.0</th>\n",
       "      <th>1.0</th>\n",
       "    </tr>\n",
       "    <tr>\n",
       "      <th>row_0</th>\n",
       "      <th></th>\n",
       "      <th></th>\n",
       "    </tr>\n",
       "  </thead>\n",
       "  <tbody>\n",
       "    <tr>\n",
       "      <th>0.0</th>\n",
       "      <td>1862</td>\n",
       "      <td>872</td>\n",
       "    </tr>\n",
       "    <tr>\n",
       "      <th>1.0</th>\n",
       "      <td>416</td>\n",
       "      <td>1938</td>\n",
       "    </tr>\n",
       "  </tbody>\n",
       "</table>\n",
       "</div>"
      ],
      "text/plain": [
       "target   0.0   1.0\n",
       "row_0             \n",
       "0.0     1862   872\n",
       "1.0      416  1938"
      ]
     },
     "execution_count": 7,
     "metadata": {},
     "output_type": "execute_result"
    }
   ],
   "source": [
    "pd.crosstab(y_hat_train, y_train)"
   ]
  },
  {
   "cell_type": "code",
   "execution_count": null,
   "metadata": {},
   "outputs": [
    {
     "name": "stdout",
     "output_type": "stream",
     "text": [
      "Accuracy score on test set: 72.41\n",
      "Recall score on test set: 80.22\n",
      "Precision score on test set: 64.9\n",
      "F1 score on test set: 71.8\n"
     ]
    }
   ],
   "source": [
    "y_hat_test = clf.predict(X_test)\n",
    "\n",
    "print('Accuracy score on test set:', round(accuracy_score(y_hat_test, y_test),4)*100)\n",
    "print('Recall score on test set:',round(recall_score(y_hat_test, y_test),4)*100)\n",
    "print('Precision score on test set:',round(precision_score(y_hat_test, y_test),3)*100)\n",
    "print('F1 score on test set:',round(f1_score(y_hat_test, y_test),3)*100)"
   ]
  },
  {
   "cell_type": "code",
   "execution_count": null,
   "metadata": {},
   "outputs": [
    {
     "data": {
      "text/html": [
       "<div>\n",
       "<style scoped>\n",
       "    .dataframe tbody tr th:only-of-type {\n",
       "        vertical-align: middle;\n",
       "    }\n",
       "\n",
       "    .dataframe tbody tr th {\n",
       "        vertical-align: top;\n",
       "    }\n",
       "\n",
       "    .dataframe thead th {\n",
       "        text-align: right;\n",
       "    }\n",
       "</style>\n",
       "<table border=\"1\" class=\"dataframe\">\n",
       "  <thead>\n",
       "    <tr style=\"text-align: right;\">\n",
       "      <th>target</th>\n",
       "      <th>0.0</th>\n",
       "      <th>1.0</th>\n",
       "    </tr>\n",
       "    <tr>\n",
       "      <th>row_0</th>\n",
       "      <th></th>\n",
       "      <th></th>\n",
       "    </tr>\n",
       "  </thead>\n",
       "  <tbody>\n",
       "    <tr>\n",
       "      <th>0.0</th>\n",
       "      <td>475</td>\n",
       "      <td>241</td>\n",
       "    </tr>\n",
       "    <tr>\n",
       "      <th>1.0</th>\n",
       "      <td>110</td>\n",
       "      <td>446</td>\n",
       "    </tr>\n",
       "  </tbody>\n",
       "</table>\n",
       "</div>"
      ],
      "text/plain": [
       "target  0.0  1.0\n",
       "row_0           \n",
       "0.0     475  241\n",
       "1.0     110  446"
      ]
     },
     "execution_count": 9,
     "metadata": {},
     "output_type": "execute_result"
    }
   ],
   "source": [
    "pd.crosstab(y_hat_test, y_test)"
   ]
  },
  {
   "cell_type": "code",
   "execution_count": null,
   "metadata": {},
   "outputs": [],
   "source": [
    "prob_y_train = clf.predict_proba(X_train)\n",
    "prob_y_test = clf.predict_proba(X_test)\n",
    "df_train_preds = pd.concat([pd.DataFrame(y_train).reset_index(drop=True), pd.DataFrame(prob_y_train)], axis=1).rename(columns={1:'y_hat'})\n",
    "df_test_preds = pd.concat([pd.DataFrame(y_test).reset_index(drop=True), pd.DataFrame(prob_y_test)], axis=1).rename(columns={1:'y_hat'})\n",
    "\n",
    "below = norm.cdf(x = 0, loc = df_train_preds['y_hat'], scale = 0.10)\n",
    "above = 1- norm.cdf(x = 1, loc = df_train_preds['y_hat'], scale = 0.10)\n",
    "df_train_preds['edgeweight'] = 1 / (1 - below - above)\n",
    "below = norm.cdf(x = 0, loc = df_test_preds['y_hat'], scale = 0.10)\n",
    "above = 1- norm.cdf(x = 1, loc = df_test_preds['y_hat'], scale = 0.10)\n",
    "df_test_preds['edgeweight'] = 1 / (1 - below - above)"
   ]
  },
  {
   "cell_type": "code",
   "execution_count": null,
   "metadata": {},
   "outputs": [
    {
     "data": {
      "image/png": "[encoded data removed]",
      "text/plain": [
       "<Figure size 432x288 with 1 Axes>"
      ]
     },
     "metadata": {
      "needs_background": "light"
     },
     "output_type": "display_data"
    }
   ],
   "source": [
    "sns.kdeplot(data=df_train_preds, x = \"y_hat\", hue = \"target\", \n",
    "            common_norm = False, bw_method = 0.2,\n",
    "            clip = (0,1), weights = 'edgeweight')\n",
    "sns.kdeplot(data=df_test_preds, x=\"y_hat\", hue = \"target\", \n",
    "            common_norm = False, bw_method = 0.2,\n",
    "            clip = (0,1), weights = 'edgeweight')\n",
    "plt.show()"
   ]
  },
  {
   "cell_type": "code",
   "execution_count": null,
   "metadata": {},
   "outputs": [
    {
     "data": {
      "image/png": "[encoded data removed]",
      "text/plain": [
       "<Figure size 432x288 with 1 Axes>"
      ]
     },
     "metadata": {
      "needs_background": "light"
     },
     "output_type": "display_data"
    }
   ],
   "source": [
    "cum_plot = sns.kdeplot(data = df_train_preds, x = \"y_hat\", hue = \"target\", \n",
    "                common_norm = False, bw_method = 0.2,\n",
    "                clip = (0,1), weights = 'edgeweight', \n",
    "                multiple = \"fill\", legend = True)\n",
    "cum_plot.legend_._set_loc(4)\n",
    "plt.show()"
   ]
  }
 ],
 "metadata": {
  "interpreter": {
   "hash": "916dbcbb3f70747c44a77c7bcd40155683ae19c65e1c03b4aa3499c5328201f1"
  },
  "kernelspec": {
   "display_name": "Python 3.8.10 64-bit",
   "language": "python",
   "name": "python3"
  },
  "language_info": {
   "codemirror_mode": {
    "name": "ipython",
    "version": 3
   },
   "file_extension": ".py",
   "mimetype": "text/x-python",
   "name": "python",
   "nbconvert_exporter": "python",
   "pygments_lexer": "ipython3",
   "version": "3.8.10"
  },
  "orig_nbformat": 4
 },
 "nbformat": 4,
 "nbformat_minor": 2
}
